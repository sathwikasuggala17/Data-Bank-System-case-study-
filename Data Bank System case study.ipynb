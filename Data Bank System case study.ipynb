{
 "cells": [
  {
   "cell_type": "code",
   "execution_count": 2,
   "id": "40c7b250",
   "metadata": {},
   "outputs": [],
   "source": [
    "import numpy as np\n",
    "import pandas as pd\n",
    "import seaborn as sns\n",
    "import matplotlib.pyplot as plt\n",
    "from datetime import datetime"
   ]
  },
  {
   "cell_type": "code",
   "execution_count": 3,
   "id": "5beb0506",
   "metadata": {},
   "outputs": [],
   "source": [
    "customer_nodes = pd.read_csv(r\"C:\\Users\\sathw\\batch 261\\case studies\\case study-4\\customer_nodes.csv\")\n",
    "customer_transactions = pd.read_csv(r\"C:\\Users\\sathw\\batch 261\\case studies\\case study-4\\customer_transactions.csv\")\n",
    "regions = pd.read_csv(r\"C:\\Users\\sathw\\batch 261\\case studies\\case study-4\\regions.csv\")"
   ]
  },
  {
   "cell_type": "code",
   "execution_count": 7,
   "id": "291f4042",
   "metadata": {},
   "outputs": [
    {
     "data": {
      "text/html": [
       "<div>\n",
       "<style scoped>\n",
       "    .dataframe tbody tr th:only-of-type {\n",
       "        vertical-align: middle;\n",
       "    }\n",
       "\n",
       "    .dataframe tbody tr th {\n",
       "        vertical-align: top;\n",
       "    }\n",
       "\n",
       "    .dataframe thead th {\n",
       "        text-align: right;\n",
       "    }\n",
       "</style>\n",
       "<table border=\"1\" class=\"dataframe\">\n",
       "  <thead>\n",
       "    <tr style=\"text-align: right;\">\n",
       "      <th></th>\n",
       "      <th>Unnamed: 0</th>\n",
       "      <th>customer_id</th>\n",
       "      <th>region_id</th>\n",
       "      <th>node_id</th>\n",
       "      <th>start_date</th>\n",
       "      <th>end_date</th>\n",
       "    </tr>\n",
       "  </thead>\n",
       "  <tbody>\n",
       "    <tr>\n",
       "      <th>0</th>\n",
       "      <td>0</td>\n",
       "      <td>1</td>\n",
       "      <td>3</td>\n",
       "      <td>4</td>\n",
       "      <td>2020-01-02</td>\n",
       "      <td>2020-01-03</td>\n",
       "    </tr>\n",
       "    <tr>\n",
       "      <th>1</th>\n",
       "      <td>1</td>\n",
       "      <td>2</td>\n",
       "      <td>3</td>\n",
       "      <td>5</td>\n",
       "      <td>2020-01-03</td>\n",
       "      <td>2020-01-17</td>\n",
       "    </tr>\n",
       "    <tr>\n",
       "      <th>2</th>\n",
       "      <td>2</td>\n",
       "      <td>3</td>\n",
       "      <td>5</td>\n",
       "      <td>4</td>\n",
       "      <td>2020-01-27</td>\n",
       "      <td>2020-02-18</td>\n",
       "    </tr>\n",
       "    <tr>\n",
       "      <th>3</th>\n",
       "      <td>3</td>\n",
       "      <td>4</td>\n",
       "      <td>5</td>\n",
       "      <td>4</td>\n",
       "      <td>2020-01-07</td>\n",
       "      <td>2020-01-19</td>\n",
       "    </tr>\n",
       "    <tr>\n",
       "      <th>4</th>\n",
       "      <td>4</td>\n",
       "      <td>5</td>\n",
       "      <td>3</td>\n",
       "      <td>3</td>\n",
       "      <td>2020-01-15</td>\n",
       "      <td>2020-01-23</td>\n",
       "    </tr>\n",
       "    <tr>\n",
       "      <th>...</th>\n",
       "      <td>...</td>\n",
       "      <td>...</td>\n",
       "      <td>...</td>\n",
       "      <td>...</td>\n",
       "      <td>...</td>\n",
       "      <td>...</td>\n",
       "    </tr>\n",
       "    <tr>\n",
       "      <th>3495</th>\n",
       "      <td>3495</td>\n",
       "      <td>496</td>\n",
       "      <td>3</td>\n",
       "      <td>4</td>\n",
       "      <td>2020-02-25</td>\n",
       "      <td>9999-12-31</td>\n",
       "    </tr>\n",
       "    <tr>\n",
       "      <th>3496</th>\n",
       "      <td>3496</td>\n",
       "      <td>497</td>\n",
       "      <td>5</td>\n",
       "      <td>4</td>\n",
       "      <td>2020-05-27</td>\n",
       "      <td>9999-12-31</td>\n",
       "    </tr>\n",
       "    <tr>\n",
       "      <th>3497</th>\n",
       "      <td>3497</td>\n",
       "      <td>498</td>\n",
       "      <td>1</td>\n",
       "      <td>2</td>\n",
       "      <td>2020-04-05</td>\n",
       "      <td>9999-12-31</td>\n",
       "    </tr>\n",
       "    <tr>\n",
       "      <th>3498</th>\n",
       "      <td>3498</td>\n",
       "      <td>499</td>\n",
       "      <td>5</td>\n",
       "      <td>1</td>\n",
       "      <td>2020-02-03</td>\n",
       "      <td>9999-12-31</td>\n",
       "    </tr>\n",
       "    <tr>\n",
       "      <th>3499</th>\n",
       "      <td>3499</td>\n",
       "      <td>500</td>\n",
       "      <td>2</td>\n",
       "      <td>2</td>\n",
       "      <td>2020-04-15</td>\n",
       "      <td>9999-12-31</td>\n",
       "    </tr>\n",
       "  </tbody>\n",
       "</table>\n",
       "<p>3500 rows × 6 columns</p>\n",
       "</div>"
      ],
      "text/plain": [
       "      Unnamed: 0  customer_id  region_id  node_id  start_date    end_date\n",
       "0              0            1          3        4  2020-01-02  2020-01-03\n",
       "1              1            2          3        5  2020-01-03  2020-01-17\n",
       "2              2            3          5        4  2020-01-27  2020-02-18\n",
       "3              3            4          5        4  2020-01-07  2020-01-19\n",
       "4              4            5          3        3  2020-01-15  2020-01-23\n",
       "...          ...          ...        ...      ...         ...         ...\n",
       "3495        3495          496          3        4  2020-02-25  9999-12-31\n",
       "3496        3496          497          5        4  2020-05-27  9999-12-31\n",
       "3497        3497          498          1        2  2020-04-05  9999-12-31\n",
       "3498        3498          499          5        1  2020-02-03  9999-12-31\n",
       "3499        3499          500          2        2  2020-04-15  9999-12-31\n",
       "\n",
       "[3500 rows x 6 columns]"
      ]
     },
     "execution_count": 7,
     "metadata": {},
     "output_type": "execute_result"
    }
   ],
   "source": [
    "customer_nodes"
   ]
  },
  {
   "cell_type": "code",
   "execution_count": 8,
   "id": "1ca081b4",
   "metadata": {},
   "outputs": [
    {
     "data": {
      "text/html": [
       "<div>\n",
       "<style scoped>\n",
       "    .dataframe tbody tr th:only-of-type {\n",
       "        vertical-align: middle;\n",
       "    }\n",
       "\n",
       "    .dataframe tbody tr th {\n",
       "        vertical-align: top;\n",
       "    }\n",
       "\n",
       "    .dataframe thead th {\n",
       "        text-align: right;\n",
       "    }\n",
       "</style>\n",
       "<table border=\"1\" class=\"dataframe\">\n",
       "  <thead>\n",
       "    <tr style=\"text-align: right;\">\n",
       "      <th></th>\n",
       "      <th>Unnamed: 0</th>\n",
       "      <th>customer_id</th>\n",
       "      <th>txn_date</th>\n",
       "      <th>txn_type</th>\n",
       "      <th>txn_amount</th>\n",
       "    </tr>\n",
       "  </thead>\n",
       "  <tbody>\n",
       "    <tr>\n",
       "      <th>0</th>\n",
       "      <td>0</td>\n",
       "      <td>429</td>\n",
       "      <td>2020-01-21</td>\n",
       "      <td>deposit</td>\n",
       "      <td>82</td>\n",
       "    </tr>\n",
       "    <tr>\n",
       "      <th>1</th>\n",
       "      <td>1</td>\n",
       "      <td>155</td>\n",
       "      <td>2020-01-10</td>\n",
       "      <td>deposit</td>\n",
       "      <td>712</td>\n",
       "    </tr>\n",
       "    <tr>\n",
       "      <th>2</th>\n",
       "      <td>2</td>\n",
       "      <td>398</td>\n",
       "      <td>2020-01-01</td>\n",
       "      <td>deposit</td>\n",
       "      <td>196</td>\n",
       "    </tr>\n",
       "    <tr>\n",
       "      <th>3</th>\n",
       "      <td>3</td>\n",
       "      <td>255</td>\n",
       "      <td>2020-01-14</td>\n",
       "      <td>deposit</td>\n",
       "      <td>563</td>\n",
       "    </tr>\n",
       "    <tr>\n",
       "      <th>4</th>\n",
       "      <td>4</td>\n",
       "      <td>185</td>\n",
       "      <td>2020-01-29</td>\n",
       "      <td>deposit</td>\n",
       "      <td>626</td>\n",
       "    </tr>\n",
       "    <tr>\n",
       "      <th>...</th>\n",
       "      <td>...</td>\n",
       "      <td>...</td>\n",
       "      <td>...</td>\n",
       "      <td>...</td>\n",
       "      <td>...</td>\n",
       "    </tr>\n",
       "    <tr>\n",
       "      <th>5863</th>\n",
       "      <td>5863</td>\n",
       "      <td>189</td>\n",
       "      <td>2020-02-03</td>\n",
       "      <td>withdrawal</td>\n",
       "      <td>870</td>\n",
       "    </tr>\n",
       "    <tr>\n",
       "      <th>5864</th>\n",
       "      <td>5864</td>\n",
       "      <td>189</td>\n",
       "      <td>2020-03-22</td>\n",
       "      <td>purchase</td>\n",
       "      <td>718</td>\n",
       "    </tr>\n",
       "    <tr>\n",
       "      <th>5865</th>\n",
       "      <td>5865</td>\n",
       "      <td>189</td>\n",
       "      <td>2020-02-06</td>\n",
       "      <td>purchase</td>\n",
       "      <td>393</td>\n",
       "    </tr>\n",
       "    <tr>\n",
       "      <th>5866</th>\n",
       "      <td>5866</td>\n",
       "      <td>189</td>\n",
       "      <td>2020-01-22</td>\n",
       "      <td>deposit</td>\n",
       "      <td>302</td>\n",
       "    </tr>\n",
       "    <tr>\n",
       "      <th>5867</th>\n",
       "      <td>5867</td>\n",
       "      <td>189</td>\n",
       "      <td>2020-01-27</td>\n",
       "      <td>withdrawal</td>\n",
       "      <td>861</td>\n",
       "    </tr>\n",
       "  </tbody>\n",
       "</table>\n",
       "<p>5868 rows × 5 columns</p>\n",
       "</div>"
      ],
      "text/plain": [
       "      Unnamed: 0  customer_id    txn_date    txn_type  txn_amount\n",
       "0              0          429  2020-01-21     deposit          82\n",
       "1              1          155  2020-01-10     deposit         712\n",
       "2              2          398  2020-01-01     deposit         196\n",
       "3              3          255  2020-01-14     deposit         563\n",
       "4              4          185  2020-01-29     deposit         626\n",
       "...          ...          ...         ...         ...         ...\n",
       "5863        5863          189  2020-02-03  withdrawal         870\n",
       "5864        5864          189  2020-03-22    purchase         718\n",
       "5865        5865          189  2020-02-06    purchase         393\n",
       "5866        5866          189  2020-01-22     deposit         302\n",
       "5867        5867          189  2020-01-27  withdrawal         861\n",
       "\n",
       "[5868 rows x 5 columns]"
      ]
     },
     "execution_count": 8,
     "metadata": {},
     "output_type": "execute_result"
    }
   ],
   "source": [
    "customer_transactions"
   ]
  },
  {
   "cell_type": "code",
   "execution_count": 9,
   "id": "6e6c2db0",
   "metadata": {},
   "outputs": [
    {
     "data": {
      "text/html": [
       "<div>\n",
       "<style scoped>\n",
       "    .dataframe tbody tr th:only-of-type {\n",
       "        vertical-align: middle;\n",
       "    }\n",
       "\n",
       "    .dataframe tbody tr th {\n",
       "        vertical-align: top;\n",
       "    }\n",
       "\n",
       "    .dataframe thead th {\n",
       "        text-align: right;\n",
       "    }\n",
       "</style>\n",
       "<table border=\"1\" class=\"dataframe\">\n",
       "  <thead>\n",
       "    <tr style=\"text-align: right;\">\n",
       "      <th></th>\n",
       "      <th>Unnamed: 0</th>\n",
       "      <th>region_id</th>\n",
       "      <th>region_name</th>\n",
       "    </tr>\n",
       "  </thead>\n",
       "  <tbody>\n",
       "    <tr>\n",
       "      <th>0</th>\n",
       "      <td>0</td>\n",
       "      <td>1</td>\n",
       "      <td>Australia</td>\n",
       "    </tr>\n",
       "    <tr>\n",
       "      <th>1</th>\n",
       "      <td>1</td>\n",
       "      <td>2</td>\n",
       "      <td>America</td>\n",
       "    </tr>\n",
       "    <tr>\n",
       "      <th>2</th>\n",
       "      <td>2</td>\n",
       "      <td>3</td>\n",
       "      <td>Africa</td>\n",
       "    </tr>\n",
       "    <tr>\n",
       "      <th>3</th>\n",
       "      <td>3</td>\n",
       "      <td>4</td>\n",
       "      <td>Asia</td>\n",
       "    </tr>\n",
       "    <tr>\n",
       "      <th>4</th>\n",
       "      <td>4</td>\n",
       "      <td>5</td>\n",
       "      <td>Europe</td>\n",
       "    </tr>\n",
       "  </tbody>\n",
       "</table>\n",
       "</div>"
      ],
      "text/plain": [
       "   Unnamed: 0  region_id region_name\n",
       "0           0          1   Australia\n",
       "1           1          2     America\n",
       "2           2          3      Africa\n",
       "3           3          4        Asia\n",
       "4           4          5      Europe"
      ]
     },
     "execution_count": 9,
     "metadata": {},
     "output_type": "execute_result"
    }
   ],
   "source": [
    "regions"
   ]
  },
  {
   "cell_type": "markdown",
   "id": "ffdfeda3",
   "metadata": {},
   "source": [
    "### Customer Nodes Exploration\n",
    "#### 1) How many unique nodes are there on the Data Bank system?"
   ]
  },
  {
   "cell_type": "code",
   "execution_count": 13,
   "id": "4d784495",
   "metadata": {},
   "outputs": [
    {
     "name": "stdout",
     "output_type": "stream",
     "text": [
      "Number of unique nodes in the Data Bank system: 5\n"
     ]
    }
   ],
   "source": [
    "# to find the no.of unique nodes in DBS system\n",
    "# using 'nunique() function of the 'node_id' column in 'customer_nodes' df\n",
    "unique_nodes_count = customer_nodes['node_id'].nunique()\n",
    "print(\"Number of unique nodes in the Data Bank system:\", unique_nodes_count)"
   ]
  },
  {
   "cell_type": "markdown",
   "id": "9958f367",
   "metadata": {},
   "source": [
    "#### 2) What is the number of nodes per region?"
   ]
  },
  {
   "cell_type": "code",
   "execution_count": 22,
   "id": "0d422185",
   "metadata": {},
   "outputs": [
    {
     "name": "stdout",
     "output_type": "stream",
     "text": [
      "Number of nodes per region:     region_id  number_of_nodes\n",
      "0          1                5\n",
      "1          2                5\n",
      "2          3                5\n",
      "3          4                5\n",
      "4          5                5\n"
     ]
    }
   ],
   "source": [
    "# To find the number of nodes per region, you can use the groupby() function along with nunique() on the 'region_id' and 'node_id' columns in the 'customer_nodes' DataFrame.\n",
    "nodes_per_region = customer_nodes.groupby('region_id')['node_id'].nunique().reset_index()\n",
    "\n",
    "# This code will group the data by 'region_id' and calculate the number of unique nodes within each region.\n",
    "# The resulting DF will display the 'region_id' and the corresponding number of nodes for each region.\n",
    "nodes_per_region.columns = ['region_id', 'number_of_nodes']\n",
    "\n",
    "print(\"Number of nodes per region: \", nodes_per_region)"
   ]
  },
  {
   "cell_type": "markdown",
   "id": "728ca3cb",
   "metadata": {},
   "source": [
    "#### 3) How many customers are allocated to each region?"
   ]
  },
  {
   "cell_type": "code",
   "execution_count": 23,
   "id": "9579ca57",
   "metadata": {},
   "outputs": [
    {
     "name": "stdout",
     "output_type": "stream",
     "text": [
      "Number of customers allocated to each region:\n",
      "   region_id  number_of_customers\n",
      "0          1                  770\n",
      "1          2                  735\n",
      "2          3                  714\n",
      "3          4                  665\n",
      "4          5                  616\n"
     ]
    }
   ],
   "source": [
    "# no.of customers allocated to each region, by using 'groupby' function along with 'count' on 'region_id' column in 'customer_nodes' df.\n",
    "customers_per_region = customer_nodes.groupby('region_id')['customer_id'].count().reset_index()\n",
    "# it groups the data by'region_id' and count the number of customers in each region.\n",
    "customers_per_region.columns = ['region_id', 'number_of_customers']\n",
    "print(\"Number of customers allocated to each region:\")\n",
    "print(customers_per_region)"
   ]
  },
  {
   "cell_type": "markdown",
   "id": "ce8c74be",
   "metadata": {},
   "source": [
    "#### 4) How many days on average are customers reallocated to a different node?"
   ]
  },
  {
   "cell_type": "code",
   "execution_count": 29,
   "id": "ee5d8121",
   "metadata": {},
   "outputs": [
    {
     "name": "stdout",
     "output_type": "stream",
     "text": [
      "The average number of days customers are reallocated to a different node is: 14.63 days\n"
     ]
    }
   ],
   "source": [
    "# Convert 'start_date' and 'end_date' columns to datetime objects\n",
    "customer_nodes['start_date'] = pd.to_datetime(customer_nodes['start_date'])\n",
    "customer_nodes['end_date'] = pd.to_datetime(customer_nodes['end_date'])\n",
    "\n",
    "# Calculate the duration of each reallocation\n",
    "customer_nodes['reallocation_days'] = (customer_nodes['end_date'] - customer_nodes['start_date']).dt.days\n",
    "\n",
    "# Calculate the average number of days customers are reallocated\n",
    "average_reallocation_days = customer_nodes['reallocation_days'].mean()\n",
    "\n",
    "print(f\"The average number of days customers are reallocated to a different node is: {average_reallocation_days:.2f} days\")"
   ]
  },
  {
   "cell_type": "markdown",
   "id": "0eab95f9",
   "metadata": {},
   "source": [
    "#### 5) What is the median, 80th and 95th percentile for this same reallocation days metric for each region?"
   ]
  },
  {
   "cell_type": "code",
   "execution_count": 31,
   "id": "be07542f",
   "metadata": {},
   "outputs": [
    {
     "data": {
      "text/html": [
       "<div>\n",
       "<style scoped>\n",
       "    .dataframe tbody tr th:only-of-type {\n",
       "        vertical-align: middle;\n",
       "    }\n",
       "\n",
       "    .dataframe tbody tr th {\n",
       "        vertical-align: top;\n",
       "    }\n",
       "\n",
       "    .dataframe thead th {\n",
       "        text-align: right;\n",
       "    }\n",
       "</style>\n",
       "<table border=\"1\" class=\"dataframe\">\n",
       "  <thead>\n",
       "    <tr style=\"text-align: right;\">\n",
       "      <th></th>\n",
       "      <th>median_reallocation_days</th>\n",
       "      <th>80th_percentile_reallocation_days</th>\n",
       "      <th>95th_percentile_reallocation_days</th>\n",
       "    </tr>\n",
       "    <tr>\n",
       "      <th>region_id</th>\n",
       "      <th></th>\n",
       "      <th></th>\n",
       "      <th></th>\n",
       "    </tr>\n",
       "  </thead>\n",
       "  <tbody>\n",
       "    <tr>\n",
       "      <th>1</th>\n",
       "      <td>15.0</td>\n",
       "      <td>NaN</td>\n",
       "      <td>NaN</td>\n",
       "    </tr>\n",
       "    <tr>\n",
       "      <th>2</th>\n",
       "      <td>15.0</td>\n",
       "      <td>NaN</td>\n",
       "      <td>NaN</td>\n",
       "    </tr>\n",
       "    <tr>\n",
       "      <th>3</th>\n",
       "      <td>15.0</td>\n",
       "      <td>NaN</td>\n",
       "      <td>NaN</td>\n",
       "    </tr>\n",
       "    <tr>\n",
       "      <th>4</th>\n",
       "      <td>15.0</td>\n",
       "      <td>NaN</td>\n",
       "      <td>NaN</td>\n",
       "    </tr>\n",
       "    <tr>\n",
       "      <th>5</th>\n",
       "      <td>15.0</td>\n",
       "      <td>NaN</td>\n",
       "      <td>NaN</td>\n",
       "    </tr>\n",
       "  </tbody>\n",
       "</table>\n",
       "</div>"
      ],
      "text/plain": [
       "           median_reallocation_days  80th_percentile_reallocation_days  \\\n",
       "region_id                                                                \n",
       "1                              15.0                                NaN   \n",
       "2                              15.0                                NaN   \n",
       "3                              15.0                                NaN   \n",
       "4                              15.0                                NaN   \n",
       "5                              15.0                                NaN   \n",
       "\n",
       "           95th_percentile_reallocation_days  \n",
       "region_id                                     \n",
       "1                                        NaN  \n",
       "2                                        NaN  \n",
       "3                                        NaN  \n",
       "4                                        NaN  \n",
       "5                                        NaN  "
      ]
     },
     "execution_count": 31,
     "metadata": {},
     "output_type": "execute_result"
    }
   ],
   "source": [
    "# Calculate reallocation days for each customer\n",
    "customer_nodes['reallocation_days'] = (customer_nodes['end_date'] - customer_nodes['start_date']).dt.days\n",
    "\n",
    "# Group by region and calculate the metrics\n",
    "region_metrics = customer_nodes.groupby('region_id')['reallocation_days'].agg(['median', lambda x: np.percentile(x, 80), lambda x: np.percentile(x, 95)])\n",
    "\n",
    "# Renaming columns for better readability\n",
    "region_metrics.columns = ['median_reallocation_days', '80th_percentile_reallocation_days', '95th_percentile_reallocation_days']\n",
    "region_metrics"
   ]
  },
  {
   "cell_type": "markdown",
   "id": "39f97757",
   "metadata": {},
   "source": [
    "### Customer Transactions\n",
    "#### 1) What is the unique count and total amount for each transaction type?"
   ]
  },
  {
   "cell_type": "code",
   "execution_count": 38,
   "id": "f02a2a12",
   "metadata": {},
   "outputs": [
    {
     "data": {
      "text/html": [
       "<div>\n",
       "<style scoped>\n",
       "    .dataframe tbody tr th:only-of-type {\n",
       "        vertical-align: middle;\n",
       "    }\n",
       "\n",
       "    .dataframe tbody tr th {\n",
       "        vertical-align: top;\n",
       "    }\n",
       "\n",
       "    .dataframe thead th {\n",
       "        text-align: right;\n",
       "    }\n",
       "</style>\n",
       "<table border=\"1\" class=\"dataframe\">\n",
       "  <thead>\n",
       "    <tr style=\"text-align: right;\">\n",
       "      <th></th>\n",
       "      <th>unique_customer_count</th>\n",
       "      <th>total_amount</th>\n",
       "    </tr>\n",
       "    <tr>\n",
       "      <th>txn_type</th>\n",
       "      <th></th>\n",
       "      <th></th>\n",
       "    </tr>\n",
       "  </thead>\n",
       "  <tbody>\n",
       "    <tr>\n",
       "      <th>deposit</th>\n",
       "      <td>500</td>\n",
       "      <td>1359168</td>\n",
       "    </tr>\n",
       "    <tr>\n",
       "      <th>purchase</th>\n",
       "      <td>448</td>\n",
       "      <td>806537</td>\n",
       "    </tr>\n",
       "    <tr>\n",
       "      <th>withdrawal</th>\n",
       "      <td>439</td>\n",
       "      <td>793003</td>\n",
       "    </tr>\n",
       "  </tbody>\n",
       "</table>\n",
       "</div>"
      ],
      "text/plain": [
       "            unique_customer_count  total_amount\n",
       "txn_type                                       \n",
       "deposit                       500       1359168\n",
       "purchase                      448        806537\n",
       "withdrawal                    439        793003"
      ]
     },
     "execution_count": 38,
     "metadata": {},
     "output_type": "execute_result"
    }
   ],
   "source": [
    "# Group by transaction type and calculate unique count and total amount\n",
    "transaction_summary = customer_transactions.groupby('txn_type').agg({'customer_id': 'nunique', 'txn_amount': 'sum'})\n",
    "\n",
    "# Rename columns for better readability\n",
    "transaction_summary.columns = ['unique_customer_count', 'total_amount']\n",
    "transaction_summary"
   ]
  },
  {
   "cell_type": "markdown",
   "id": "1f73308b",
   "metadata": {},
   "source": [
    "#### 2) What is the average total historical deposit counts and amounts for all customers?"
   ]
  },
  {
   "cell_type": "code",
   "execution_count": 40,
   "id": "3ad14f98",
   "metadata": {},
   "outputs": [
    {
     "name": "stdout",
     "output_type": "stream",
     "text": [
      "Average Total Historical Deposit Counts: 5.342\n",
      "Average Total Historical Deposit Amounts: 2718.336\n"
     ]
    }
   ],
   "source": [
    "# Filtering deposit transactions\n",
    "deposit_transactions = customer_transactions[customer_transactions['txn_type'] == 'deposit']\n",
    "\n",
    "# making Group by customer and calculate total deposit counts and amounts\n",
    "deposit_summary = deposit_transactions.groupby('customer_id').agg({'txn_amount': ['count', 'sum']})\n",
    "\n",
    "average_deposit_counts = deposit_summary['txn_amount']['count'].mean()\n",
    "average_deposit_amounts = deposit_summary['txn_amount']['sum'].mean()\n",
    "\n",
    "print(\"Average Total Historical Deposit Counts:\", average_deposit_counts)\n",
    "print(\"Average Total Historical Deposit Amounts:\", average_deposit_amounts)"
   ]
  },
  {
   "cell_type": "markdown",
   "id": "30f56eaa",
   "metadata": {},
   "source": [
    "#### 3) For each month - how many Data Bank customers make more than 1 deposit and either 1 purchase or 1 withdrawal in a single month?"
   ]
  },
  {
   "cell_type": "code",
   "execution_count": 41,
   "id": "d4eb44b2",
   "metadata": {},
   "outputs": [
    {
     "name": "stdout",
     "output_type": "stream",
     "text": [
      "month\n",
      "2020-01    295\n",
      "2020-02    342\n",
      "2020-03    364\n",
      "2020-04    156\n",
      "Freq: M, Name: txn_type, dtype: int64\n"
     ]
    }
   ],
   "source": [
    "# Converting txn_date to datetime\n",
    "customer_transactions['txn_date'] = pd.to_datetime(customer_transactions['txn_date'])\n",
    "\n",
    "# Extracting month and year from txn_date\n",
    "customer_transactions['month'] = customer_transactions['txn_date'].dt.to_period('M')\n",
    "\n",
    "# Filtering relevant transactions\n",
    "relevant_transactions = customer_transactions[(customer_transactions['txn_type'].isin(['deposit', 'purchase', 'withdrawal'])) & (customer_transactions['txn_amount'] > 0)]\n",
    "\n",
    "# making Group by customer and month, then count unique transaction types\n",
    "monthly_activity = relevant_transactions.groupby(['customer_id', 'month'])['txn_type'].nunique()\n",
    "\n",
    "# Counting customers meeting the criteria for each month\n",
    "active_customers_per_month = monthly_activity[(monthly_activity > 1)].groupby('month').count()\n",
    "\n",
    "print(active_customers_per_month)"
   ]
  },
  {
   "cell_type": "markdown",
   "id": "0778a545",
   "metadata": {},
   "source": [
    "#### 4) What is the closing balance for each customer at the end of the month?"
   ]
  },
  {
   "cell_type": "code",
   "execution_count": 43,
   "id": "bc562901",
   "metadata": {},
   "outputs": [
    {
     "data": {
      "text/plain": [
       "customer_id  month  \n",
       "1            2020-01     312\n",
       "             2020-03    1600\n",
       "2            2020-01     549\n",
       "             2020-03      61\n",
       "3            2020-01     144\n",
       "                        ... \n",
       "499          2020-02    3007\n",
       "             2020-03    2324\n",
       "500          2020-01    3566\n",
       "             2020-02    1485\n",
       "             2020-03    4792\n",
       "Name: txn_amount, Length: 1720, dtype: int64"
      ]
     },
     "execution_count": 43,
     "metadata": {},
     "output_type": "execute_result"
    }
   ],
   "source": [
    "# Convert txn_date to datetime\n",
    "customer_transactions['txn_date'] = pd.to_datetime(customer_transactions['txn_date'])\n",
    "\n",
    "# Extract month and year from txn_date\n",
    "customer_transactions['month'] = customer_transactions['txn_date'].dt.to_period('M')\n",
    "\n",
    "# Calculate closing balance for each customer at the end of the month\n",
    "closing_balance = customer_transactions.groupby(['customer_id', 'month'])['txn_amount'].sum()\n",
    "closing_balance"
   ]
  }
 ],
 "metadata": {
  "kernelspec": {
   "display_name": "Python 3 (ipykernel)",
   "language": "python",
   "name": "python3"
  },
  "language_info": {
   "codemirror_mode": {
    "name": "ipython",
    "version": 3
   },
   "file_extension": ".py",
   "mimetype": "text/x-python",
   "name": "python",
   "nbconvert_exporter": "python",
   "pygments_lexer": "ipython3",
   "version": "3.11.5"
  }
 },
 "nbformat": 4,
 "nbformat_minor": 5
}
